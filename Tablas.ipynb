{
 "cells": [
  {
   "cell_type": "code",
   "execution_count": 2,
   "id": "8de60112",
   "metadata": {},
   "outputs": [
    {
     "name": "stdout",
     "output_type": "stream",
     "text": [
      "Ingresa en que tabla iniciarás: 1\n",
      "Ingresa en que tabla acabarás: 8\n",
      "Ingresa de que número empezará la tabla: 3\n",
      "Ingresa hasta que número acabará: 8\n",
      " 1 X 3 = 3\n",
      " 1 X 4 = 4\n",
      " 1 X 5 = 5\n",
      " 1 X 6 = 6\n",
      " 1 X 7 = 7\n",
      " 1 X 8 = 8\n",
      " 2 X 3 = 6\n",
      " 2 X 4 = 8\n",
      " 2 X 5 = 10\n",
      " 2 X 6 = 12\n",
      " 2 X 7 = 14\n",
      " 2 X 8 = 16\n",
      " 3 X 3 = 9\n",
      " 3 X 4 = 12\n",
      " 3 X 5 = 15\n",
      " 3 X 6 = 18\n",
      " 3 X 7 = 21\n",
      " 3 X 8 = 24\n",
      " 4 X 3 = 12\n",
      " 4 X 4 = 16\n",
      " 4 X 5 = 20\n",
      " 4 X 6 = 24\n",
      " 4 X 7 = 28\n",
      " 4 X 8 = 32\n",
      " 5 X 3 = 15\n",
      " 5 X 4 = 20\n",
      " 5 X 5 = 25\n",
      " 5 X 6 = 30\n",
      " 5 X 7 = 35\n",
      " 5 X 8 = 40\n",
      " 6 X 3 = 18\n",
      " 6 X 4 = 24\n",
      " 6 X 5 = 30\n",
      " 6 X 6 = 36\n",
      " 6 X 7 = 42\n",
      " 6 X 8 = 48\n",
      " 7 X 3 = 21\n",
      " 7 X 4 = 28\n",
      " 7 X 5 = 35\n",
      " 7 X 6 = 42\n",
      " 7 X 7 = 49\n",
      " 7 X 8 = 56\n",
      " 8 X 3 = 24\n",
      " 8 X 4 = 32\n",
      " 8 X 5 = 40\n",
      " 8 X 6 = 48\n",
      " 8 X 7 = 56\n",
      " 8 X 8 = 64\n"
     ]
    }
   ],
   "source": [
    "rangeInit = int(input(\"Ingresa en que tabla iniciarás: \"))\n",
    "rangeEnd = int(input(\"Ingresa en que tabla acabarás: \"))\n",
    "\n",
    "tableInit = int(input(\"Ingresa de que número empezará la tabla: \"))\n",
    "tableFinal = int(input(\"Ingresa hasta que número acabará: \"))\n",
    "\n",
    "for i in range(rangeInit, rangeEnd+1):\n",
    "    for j in range(tableInit, tableFinal+1):\n",
    "        result = i * j\n",
    "        print(f\" {i} X {j} = {result}\")"
   ]
  },
  {
   "cell_type": "code",
   "execution_count": null,
   "id": "9dbbb651",
   "metadata": {},
   "outputs": [],
   "source": []
  }
 ],
 "metadata": {
  "kernelspec": {
   "display_name": "Python 3 (ipykernel)",
   "language": "python",
   "name": "python3"
  },
  "language_info": {
   "codemirror_mode": {
    "name": "ipython",
    "version": 3
   },
   "file_extension": ".py",
   "mimetype": "text/x-python",
   "name": "python",
   "nbconvert_exporter": "python",
   "pygments_lexer": "ipython3",
   "version": "3.11.4"
  }
 },
 "nbformat": 4,
 "nbformat_minor": 5
}
