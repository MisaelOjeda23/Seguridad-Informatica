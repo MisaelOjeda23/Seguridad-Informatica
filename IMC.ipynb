{
 "cells": [
  {
   "cell_type": "code",
   "execution_count": 1,
   "id": "9fa33177",
   "metadata": {},
   "outputs": [
    {
     "name": "stdout",
     "output_type": "stream",
     "text": [
      "Misael, tu IMC es 19.38,\n",
      "y estas normal de peso.\n"
     ]
    }
   ],
   "source": [
    "persona = {\n",
    "    \"nombre\": \"Misael\",\n",
    "    \"apPaterno\": \"Ojeda\",\n",
    "    \"apMaterno\": \"Marcelino\",\n",
    "    \"edad\": 21,\n",
    "    \"ciudad\": \"Cancún\",\n",
    "    \"altura\": 1.70,\n",
    "    \"peso\": 56\n",
    "}\n",
    "\n",
    "def indexCal():\n",
    "    \n",
    "    p = persona[\"peso\"]\n",
    "    a = persona[\"altura\"]\n",
    "    name = persona[\"nombre\"]\n",
    "    \n",
    "    IMC = p / pow(a,2)\n",
    "    \n",
    "    imc = round(IMC,2)\n",
    "    \n",
    "    print(f\"{name}, tu IMC es {imc},\")\n",
    "    \n",
    "    if IMC < 18.5:\n",
    "        print(\"y estas bajo peso.\")\n",
    "    elif IMC > 18.5 and IMC < 24.9:\n",
    "        print(\"y estas normal de peso.\")\n",
    "    elif IMC > 25.0 and imc < 29.9:\n",
    "        print(\"y estas en SOBREPESO.\")\n",
    "    else:\n",
    "        print(\"y estas en OBESIDAD, CUIDATE.\")\n",
    "        \n",
    "\n",
    "indexCal()"
   ]
  }
 ],
 "metadata": {
  "kernelspec": {
   "display_name": "Python 3 (ipykernel)",
   "language": "python",
   "name": "python3"
  },
  "language_info": {
   "codemirror_mode": {
    "name": "ipython",
    "version": 3
   },
   "file_extension": ".py",
   "mimetype": "text/x-python",
   "name": "python",
   "nbconvert_exporter": "python",
   "pygments_lexer": "ipython3",
   "version": "3.11.4"
  }
 },
 "nbformat": 4,
 "nbformat_minor": 5
}
